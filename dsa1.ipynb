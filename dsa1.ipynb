{
  "nbformat": 4,
  "nbformat_minor": 0,
  "metadata": {
    "colab": {
      "provenance": [],
      "authorship_tag": "ABX9TyOlUsOccxkyM02zhU98JW9s",
      "include_colab_link": true
    },
    "kernelspec": {
      "name": "python3",
      "display_name": "Python 3"
    },
    "language_info": {
      "name": "python"
    }
  },
  "cells": [
    {
      "cell_type": "markdown",
      "metadata": {
        "id": "view-in-github",
        "colab_type": "text"
      },
      "source": [
        "<a href=\"https://colab.research.google.com/github/rahul31616/19_Codex_BnB24/blob/main/dsa1.ipynb\" target=\"_parent\"><img src=\"https://colab.research.google.com/assets/colab-badge.svg\" alt=\"Open In Colab\"/></a>"
      ]
    },
    {
      "cell_type": "code",
      "execution_count": null,
      "metadata": {
        "colab": {
          "base_uri": "https://localhost:8080/"
        },
        "id": "L_2_FbkBhfXh",
        "outputId": "b348cdb8-ca3a-4be0-d492-bf5f4e86bc8c"
      },
      "outputs": [
        {
          "output_type": "stream",
          "name": "stdout",
          "text": [
            "Matrix b:/n [-9093133594791772939      139750158188440]\n",
            "Matrix b:/n [[       39314536               0]\n",
            " [              1 139750139396512]]\n",
            "nmatrix c:\n",
            " [[1.8029107e-316 0.0000000e+000 0.0000000e+000]\n",
            " [0.0000000e+000 0.0000000e+000 0.0000000e+000]\n",
            " [0.0000000e+000 0.0000000e+000 0.0000000e+000]]\n"
          ]
        }
      ],
      "source": [
        "import numpy as np\n",
        "\n",
        "b = np.empty(2, dtype = int)\n",
        "print(\"Matrix b:/n\",b)\n",
        "\n",
        "a = np.empty([2,2], dtype = int)\n",
        "print(\"Matrix b:/n\",a)\n",
        "\n",
        "c = np.empty([3,3])\n",
        "print(\"nmatrix c:\\n\",c)\n"
      ]
    },
    {
      "cell_type": "code",
      "source": [
        "import numpy as np\n",
        "\n",
        "a=np.array([5,72,13,100])\n",
        "b=np.array([2,5,10,30])\n",
        "\n",
        "add_ans = a+b\n",
        "print(add_ans)\n",
        "\n",
        "add_ans = np.add(a,b)\n",
        "print(add_ans)\n",
        "\n",
        "c=np.array([1,2,3,4])\n",
        "add_ans = a+b+c\n",
        "print(add_ans)\n",
        "\n",
        "add_ans = np.add(a,b,c)\n",
        "print(add_ans)"
      ],
      "metadata": {
        "colab": {
          "base_uri": "https://localhost:8080/"
        },
        "id": "ktr0R4cDiYVE",
        "outputId": "0a5dd850-404c-4a58-b891-b3cbe4dcf3c9"
      },
      "execution_count": null,
      "outputs": [
        {
          "output_type": "stream",
          "name": "stdout",
          "text": [
            "[  7  77  23 130]\n",
            "[  7  77  23 130]\n",
            "[  8  79  26 134]\n",
            "[  7  77  23 130]\n"
          ]
        }
      ]
    },
    {
      "cell_type": "code",
      "source": [
        "import numpy as np\n",
        "\n",
        "b = np.zeros(2, dtype=int)\n",
        "print(\"matrix b: \\n\",b)\n",
        "\n",
        "\n",
        "a = np.zeros([2,2], dtype=int)\n",
        "print(\"matrix a: \\n\",a)\n",
        "\n",
        "c = np.zeros([3,3])\n",
        "print(\"\\nmatrix c: \\n\",c)\n"
      ],
      "metadata": {
        "colab": {
          "base_uri": "https://localhost:8080/"
        },
        "id": "fkzGo2PVk5yo",
        "outputId": "7ad31d82-078d-46e8-fe70-f426df148292"
      },
      "execution_count": 3,
      "outputs": [
        {
          "output_type": "stream",
          "name": "stdout",
          "text": [
            "matrix b: \n",
            " [0 0]\n",
            "matrix a: \n",
            " [[0 0]\n",
            " [0 0]]\n",
            "\n",
            "matrix c: \n",
            " [[0. 0. 0.]\n",
            " [0. 0. 0.]\n",
            " [0. 0. 0.]]\n"
          ]
        }
      ]
    }
  ]
}